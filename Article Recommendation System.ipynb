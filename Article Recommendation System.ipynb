{
 "cells": [
  {
   "cell_type": "code",
   "execution_count": 35,
   "id": "6474f299",
   "metadata": {},
   "outputs": [],
   "source": [
    "import numpy as np\n",
    "import pandas as pd\n",
    "from sklearn.feature_extraction.text import TfidfVectorizer\n",
    "from sklearn.metrics.pairwise import cosine_similarity\n",
    "import pickle"
   ]
  },
  {
   "cell_type": "code",
   "execution_count": 15,
   "id": "ac613920",
   "metadata": {},
   "outputs": [],
   "source": [
    "df = pd.read_csv(\"articles.csv\", encoding=\"latin1\")"
   ]
  },
  {
   "cell_type": "code",
   "execution_count": 17,
   "id": "9ddfd131",
   "metadata": {},
   "outputs": [],
   "source": [
    "articles = df[\"Article\"].tolist()"
   ]
  },
  {
   "cell_type": "code",
   "execution_count": 18,
   "id": "82db0453",
   "metadata": {},
   "outputs": [],
   "source": [
    "tfidf = TfidfVectorizer(stop_words=\"english\")"
   ]
  },
  {
   "cell_type": "code",
   "execution_count": 19,
   "id": "547295ba",
   "metadata": {},
   "outputs": [],
   "source": [
    "uni_matrix = tfidf.fit_transform(articles)"
   ]
  },
  {
   "cell_type": "code",
   "execution_count": 20,
   "id": "703ff4f5",
   "metadata": {},
   "outputs": [],
   "source": [
    "cos_sim = cosine_similarity(uni_matrix)"
   ]
  },
  {
   "cell_type": "code",
   "execution_count": 31,
   "id": "08c738fb",
   "metadata": {},
   "outputs": [],
   "source": [
    "def recommended_articles(title, n=5):\n",
    "    article_index = df[df[\"Title\"] == title].index[0]\n",
    "    article_similarities = cos_sim[article_index]\n",
    "    top_indices = article_similarities.argsort()[::-1][1:n+1]\n",
    "    recommended_titles = [df[\"Title\"].loc[i] for i in top_indices]\n",
    "    return recommended_titles"
   ]
  },
  {
   "cell_type": "code",
   "execution_count": 32,
   "id": "9d0937f5",
   "metadata": {},
   "outputs": [],
   "source": [
    "user_title = \"News Classification with Machine Learning\"\n",
    "recommended_titles = recommended_articles(user_title, 5)"
   ]
  },
  {
   "cell_type": "code",
   "execution_count": 34,
   "id": "90b9ffd7",
   "metadata": {},
   "outputs": [
    {
     "name": "stdout",
     "output_type": "stream",
     "text": [
      "Onerilen Makaleler:\n",
      "- News Classification with Machine Learning\n",
      "- Multiclass Classification Algorithms in Machine Learning\n",
      "- Apple Stock Price Prediction with Machine Learning\n",
      "- Language Detection with Machine Learning\n",
      "- Best Books to Learn Deep Learning\n"
     ]
    }
   ],
   "source": [
    "print(\"Onerilen Makaleler:\")\n",
    "for title in recommended_titles:\n",
    "    print(\"- \" + title)"
   ]
  },
  {
   "cell_type": "code",
   "execution_count": null,
   "id": "28fe2872",
   "metadata": {},
   "outputs": [],
   "source": []
  }
 ],
 "metadata": {
  "kernelspec": {
   "display_name": "Python 3 (ipykernel)",
   "language": "python",
   "name": "python3"
  },
  "language_info": {
   "codemirror_mode": {
    "name": "ipython",
    "version": 3
   },
   "file_extension": ".py",
   "mimetype": "text/x-python",
   "name": "python",
   "nbconvert_exporter": "python",
   "pygments_lexer": "ipython3",
   "version": "3.8.16"
  }
 },
 "nbformat": 4,
 "nbformat_minor": 5
}
